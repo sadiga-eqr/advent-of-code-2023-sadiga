{
 "cells": [
  {
   "cell_type": "code",
   "execution_count": 58,
   "id": "b3a507ba-7cf9-4df0-a3a9-62de59cd01c4",
   "metadata": {},
   "outputs": [],
   "source": [
    "import re\n",
    "import math\n",
    "\n",
    "\n",
    "\n",
    "file_path = r'C:\\Users\\sadiga\\Desktop\\Python Exercises\\day9\\day9Input.txt'\n",
    "total_historic_values = 0\n"
   ]
  },
  {
   "cell_type": "code",
   "execution_count": 59,
   "id": "f4f42b06-51e1-443c-8037-8e1cee49691d",
   "metadata": {},
   "outputs": [],
   "source": [
    "def extractHistory(lineSeq):\n",
    "    seqDict = {}\n",
    "    numList = lineSeq.split(' ')\n",
    "    numList = list(map(int, numList))\n",
    "    #print(f\"{numList}\")\n",
    "    for i in range(len(numList)):\n",
    "        seqDict[str(i)] = numList\n",
    "        i += 1\n",
    "        differences = [numList[j + 1] - numList[j] for j in range(len(numList) - 1)]\n",
    "        seqDict[str(i)] = differences\n",
    "        numList = differences\n",
    "\n",
    "        # Check if all differences are zero\n",
    "        all_zero_differences = all(diff == 0 for diff in differences)\n",
    "\n",
    "        if all_zero_differences:\n",
    "            #print(f\"seqDict = {seqDict}\")\n",
    "            historicValue = addHistoryNum(seqDict)\n",
    "            #print(f\" historicValue = {historicValue}\") \n",
    "            break\n",
    "    return historicValue\n",
    "    \n",
    "        "
   ]
  },
  {
   "cell_type": "code",
   "execution_count": 60,
   "id": "2ff2914a-c5b2-4756-be5c-9d22c7adc5cb",
   "metadata": {},
   "outputs": [],
   "source": [
    "def addHistoryNum(seqDict):\n",
    "    valueToSubtract = 0\n",
    "    missingValue = 0\n",
    "    first_key = next(iter(seqDict))\n",
    "    last_key = list(seqDict.keys())[-1]\n",
    "    for key in reversed(seqDict.keys()):\n",
    "        if( key == last_key ):\n",
    "            preValue = seqDict[str(int(key) - 1)][0]\n",
    "            valueToSubtract = preValue\n",
    "            #print(f\"valueToSubtract = {valueToSubtract}\") \n",
    "        elif (key != first_key):\n",
    "            preValue = seqDict[str(int(key) - 1)][0]\n",
    "            #missingValue = valueToSubtract + preValue // part1\n",
    "            missingValue =  preValue - valueToSubtract\n",
    "            valueToSubtract = missingValue\n",
    "            #print(f\"valueToSubtract = {valueToSubtract}\") \n",
    "        else:\n",
    "            return valueToSubtract\n",
    "        "
   ]
  },
  {
   "cell_type": "code",
   "execution_count": 61,
   "id": "968b9612-8fed-462a-9ce0-138a7733647d",
   "metadata": {},
   "outputs": [
    {
     "name": "stdout",
     "output_type": "stream",
     "text": [
      "total_historic_values = 964\n"
     ]
    }
   ],
   "source": [
    "with open(file_path, 'r') as file:\n",
    "    # Read file content line by line\n",
    "    for line in file:\n",
    "        historicValue = extractHistory(line)\n",
    "        total_historic_values = total_historic_values + historicValue\n",
    "\n",
    "print(f\"total_historic_values = {total_historic_values}\") "
   ]
  },
  {
   "cell_type": "code",
   "execution_count": null,
   "id": "405c3446-73e2-407e-84ca-2d42dfdd9f4e",
   "metadata": {},
   "outputs": [],
   "source": []
  },
  {
   "cell_type": "code",
   "execution_count": 62,
   "id": "ead7e910-166e-4879-9838-e2035aa09a58",
   "metadata": {},
   "outputs": [],
   "source": [
    "#0   3   6   9  12  15"
   ]
  }
 ],
 "metadata": {
  "kernelspec": {
   "display_name": "Python 3 (ipykernel)",
   "language": "python",
   "name": "python3"
  },
  "language_info": {
   "codemirror_mode": {
    "name": "ipython",
    "version": 3
   },
   "file_extension": ".py",
   "mimetype": "text/x-python",
   "name": "python",
   "nbconvert_exporter": "python",
   "pygments_lexer": "ipython3",
   "version": "3.10.11"
  }
 },
 "nbformat": 4,
 "nbformat_minor": 5
}
